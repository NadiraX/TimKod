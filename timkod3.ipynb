{
 "cells": [
  {
   "cell_type": "code",
   "execution_count": 212,
   "metadata": {},
   "outputs": [],
   "source": [
    "from bitarray import bitarray\n",
    "def create(counted_signs):\n",
    "    sign_len = len(counted_signs)\n",
    "    code_len = len(bin(sign_len)[2:])\n",
    "    code_tracker = {}\n",
    "    counter = 0\n",
    "    for sign_tuple in counted_signs:\n",
    "        tmp = bitarray(bin(counter)[2:])\n",
    "        for j in range(code_len-1):\n",
    "            tmp.insert(0,False)\n",
    "        code_tracker[sign_tuple[0]] = tmp[-code_len:]\n",
    "        counter+=1\n",
    "    return(code_tracker)\n",
    "    \n",
    "    "
   ]
  },
  {
   "cell_type": "code",
   "execution_count": 213,
   "metadata": {},
   "outputs": [],
   "source": [
    "def encode(code,text):\n",
    "    encoded_text = bitarray(0)\n",
    "    for i in text:\n",
    "        encoded_text= encoded_text + code[i]\n",
    "    return(encoded_text)"
   ]
  },
  {
   "cell_type": "code",
   "execution_count": 219,
   "metadata": {},
   "outputs": [],
   "source": [
    "def decode(code,coded_text):\n",
    "    decoded_text = ''\n",
    "    tmp = bitarray(0)\n",
    "    for i in coded_text:\n",
    "        tmp = tmp + bitarray(str(int(i)))\n",
    "        try:\n",
    "            for key,value in code.items():\n",
    "                if tmp == value:\n",
    "                    decoded_text = decoded_text + str(key)\n",
    "                    tmp = bitarray(0)\n",
    "        except:\n",
    "            pass\n",
    "    return(decoded_text)"
   ]
  },
  {
   "cell_type": "code",
   "execution_count": 215,
   "metadata": {},
   "outputs": [],
   "source": [
    "def save(encoded_text,filename,filename_code,code):\n",
    "    f = open(filename, \"w\")\n",
    "    f.write(str(len(code.values()))+\"\\n\")\n",
    "    for key, value in code.items():\n",
    "        f.write(key+\" \"+str(value.to01())+\"\\n\")\n",
    "    f.close()\n",
    "    with open(filename_code, 'wb') as fh:\n",
    "        encoded_text.tofile(fh)\n",
    "    return(1)"
   ]
  },
  {
   "cell_type": "code",
   "execution_count": 216,
   "metadata": {},
   "outputs": [],
   "source": [
    "def load(filename_text,filename_code):\n",
    "    code = {}\n",
    "    f = open(filename_code, \"r\")\n",
    "    f_list = list(f)\n",
    "    num_keys = f_list[0]\n",
    "    del f_list[0]\n",
    "    for i in range(int(num_keys)):\n",
    "        code[f_list[i].rsplit(\" \",1)[0]] = bitarray(f_list[i].rsplit(\" \",1)[1].replace(\"\\n\",\"\"))\n",
    "    with open(filename_text,'rb') as file:\n",
    "        text = bitarray(0)\n",
    "        text.fromfile(file)\n",
    "    return(code,text)"
   ]
  },
  {
   "cell_type": "code",
   "execution_count": 247,
   "metadata": {
    "scrolled": true
   },
   "outputs": [
    {
     "name": "stdout",
     "output_type": "stream",
     "text": [
      "{' ': bitarray('000000'), 'e': bitarray('000001'), 'a': bitarray('000010'), 't': bitarray('000011'), 'i': bitarray('000100'), 'n': bitarray('000101'), 'o': bitarray('000110'), 'r': bitarray('000111'), 's': bitarray('001000'), 'h': bitarray('001001'), 'l': bitarray('001010'), 'd': bitarray('001011'), 'c': bitarray('001100'), 'm': bitarray('001101'), 'u': bitarray('001110'), 'f': bitarray('001111'), 'p': bitarray('010000'), 'g': bitarray('010001'), 'w': bitarray('010010'), 'b': bitarray('010011'), 'y': bitarray('010100'), 'v': bitarray('010101'), '1': bitarray('010110'), 'k': bitarray('010111'), '0': bitarray('011000'), '2': bitarray('011001'), '9': bitarray('011010'), '8': bitarray('011011'), 'j': bitarray('011100'), 'x': bitarray('011101'), '3': bitarray('011110'), '5': bitarray('011111'), '4': bitarray('100000'), '7': bitarray('100001'), '6': bitarray('100010'), 'z': bitarray('100011'), 'q': bitarray('100100')}\n",
      "poprawnie\n",
      " albert of prussia 17 may 1490 20 march 1568 was the last grand master of the teutonic knights who after converting to lutheranism became the first monarch of the duchy of prussia the secularized state that emerged from the former monastic state of t\n"
     ]
    }
   ],
   "source": [
    "import string\n",
    "def zadanie1(filename):\n",
    "    filename = 'norm_wiki_sample_cut.txt'\n",
    "    filename_save = 'norm_wiki_sample_save.txt'\n",
    "    filename_code = 'norm_wiki_sample_code.txt'\n",
    "    znaki = list(string.ascii_lowercase)\n",
    "    liczby = list(string.digits)\n",
    "    all_signs = znaki +liczby+ list(\" \")\n",
    "\n",
    "    with open(filename,\"r\") as f1:\n",
    "        data = f1.read()\n",
    "\n",
    "    sign_tracker = {}\n",
    "    for i in range(len(all_signs)):\n",
    "        sign_tracker[all_signs[i]] = 0\n",
    "    for i in data:\n",
    "        try:\n",
    "            sign_tracker[i] += 1\n",
    "        except:\n",
    "            #other signs\n",
    "            pass\n",
    "        \n",
    "    sign_tracker = dict(sorted(sign_tracker.items(), key=lambda item: item[1], reverse = True))\n",
    "    sign_list = [(k,v) for k,v in sign_tracker.items()]\n",
    "    \n",
    "    code = create(sign_list)\n",
    "    encoded_text = encode(code,data[0:250])\n",
    "    save(encoded_text,filename_save,filename_code,code)\n",
    "    loaded_code,loaded_text = load(filename_code,filename_save)\n",
    "    decoded_text = decode(loaded_code,loaded_text)\n",
    "    if data[0:250] == decoded_text:\n",
    "        msg = \"poprawnie\"\n",
    "    else:\n",
    "        msg = \"niepoprawnie\"\n",
    "    return(code,msg,decoded_text,sign_list)\n",
    "\n",
    "code,msg,decoded_text,alfabet = zadanie1('norm_wiki_sample.txt')\n",
    "print(code)\n",
    "print(msg)\n",
    "print(decoded_text)\n"
   ]
  },
  {
   "cell_type": "code",
   "execution_count": 369,
   "metadata": {},
   "outputs": [
    {
     "data": {
      "text/plain": [
       "(4.2803962467015655, 0.7133993744502609)"
      ]
     },
     "execution_count": 369,
     "metadata": {},
     "output_type": "execute_result"
    }
   ],
   "source": [
    "import math\n",
    "def zadanie2(alfabet,srednia_dlugość = 6):\n",
    "    entropia = 0\n",
    "    counter = 0\n",
    "    for i in alfabet:\n",
    "        counter+=i[1]\n",
    "    for i in alfabet:\n",
    "        entropia += (i[1]/counter * math.log(1/(i[1]/counter),2))\n",
    "    efektywnosc = entropia/srednia_dlugość\n",
    "    return entropia,efektywnosc\n",
    "                     \n",
    "zadanie2(alfabet)"
   ]
  },
  {
   "cell_type": "code",
   "execution_count": 330,
   "metadata": {},
   "outputs": [],
   "source": [
    "def huffman_decode(node, array = bitarray(0)):\n",
    "    if type(node) is str:\n",
    "        return {node: array}\n",
    "    l = node[0]\n",
    "    r = node[1]\n",
    "    d = dict()\n",
    "    d.update(huffman_decode(l, array + '0'))\n",
    "    d.update(huffman_decode(r, array + '1'))\n",
    "    return d\n",
    "    \n",
    "def huffman_code(sign_list):\n",
    "    nodes = []\n",
    "    for i in range(len(sign_list)):\n",
    "        g = sign_list[i]\n",
    "        nodes.append(g)\n",
    "    \n",
    "    while len(nodes) >1:\n",
    "        (key1, value1) = nodes[-1]\n",
    "        (key2, value2) = nodes[-2]\n",
    "        nodes = nodes[:-2]\n",
    "        node = (key1, key2)\n",
    "        nodes.append((node, value1 + value2))\n",
    "        nodes = sorted(nodes, key=lambda x: x[1], reverse=True)\n",
    "    huffmanCode = huffman_decode(nodes[0][0]) \n",
    "    return huffmanCode"
   ]
  },
  {
   "cell_type": "code",
   "execution_count": 362,
   "metadata": {},
   "outputs": [],
   "source": [
    "def mean_huffman(code,p_list):\n",
    "    mean_sum = 0\n",
    "    for i in range(len(code)):\n",
    "        mean_sum += len(code[i][1])*float(p_list[i][1])\n",
    "    return(mean_sum)"
   ]
  },
  {
   "cell_type": "code",
   "execution_count": 372,
   "metadata": {},
   "outputs": [
    {
     "name": "stdout",
     "output_type": "stream",
     "text": [
      "{'e': bitarray('000'), 'm': bitarray('00100'), 'y': bitarray('001010'), 'k': bitarray('0010110'), '4': bitarray('001011100'), 'x': bitarray('001011101'), '5': bitarray('001011110'), '3': bitarray('001011111'), 's': bitarray('0011'), 'w': bitarray('010000'), 'b': bitarray('010001'), 'c': bitarray('01001'), 'r': bitarray('0101'), 'o': bitarray('0110'), 'n': bitarray('0111'), 'i': bitarray('1000'), 'd': bitarray('10010'), '2': bitarray('10011000'), '9': bitarray('10011001'), 'v': bitarray('1001101'), 'g': bitarray('100111'), 't': bitarray('1010'), 'p': bitarray('101100'), 'f': bitarray('101101'), 'l': bitarray('10111'), 'a': bitarray('1100'), 'h': bitarray('11010'), '8': bitarray('110110000'), 'j': bitarray('110110001'), '0': bitarray('11011001'), 'q': bitarray('1101101000'), 'z': bitarray('1101101001'), '6': bitarray('1101101010'), '7': bitarray('1101101011'), '1': bitarray('11011011'), 'u': bitarray('110111'), ' ': bitarray('111')}\n",
      "poprawnie\n",
      " albert of prussia 17 may 1490 20 march 1568 was the last grand master of the teutonic knights who after converting to lutheranism became the first monarch of the duchy of prussia the secularized state that emerged from the former monastic state of t\n",
      "(4.2803962467015655, 0.7241329870259378)\n"
     ]
    }
   ],
   "source": [
    "def zadanie3(code):\n",
    "    filename = 'norm_wiki_sample.txt'\n",
    "    filename_save = 'norm_wiki_sample_save.txt'\n",
    "    filename_code = 'norm_wiki_sample_code.txt'\n",
    "    znaki = list(string.ascii_lowercase)\n",
    "    liczby = list(string.digits)\n",
    "    all_signs = znaki +liczby+ list(\" \")\n",
    "\n",
    "    with open(filename,\"r\") as f1:\n",
    "        data = f1.read()\n",
    "\n",
    "    sign_tracker = {}\n",
    "    for i in range(len(all_signs)):\n",
    "        sign_tracker[all_signs[i]] = 0\n",
    "    counter = 0\n",
    "    for i in data:\n",
    "        try:\n",
    "            sign_tracker[i] += 1\n",
    "            counter+=1\n",
    "        except:\n",
    "            #other signs\n",
    "            pass\n",
    "        \n",
    "    sign_tracker = dict(sorted(sign_tracker.items(), key=lambda item: item[1], reverse = True))\n",
    "    sign_list = [(k,v/counter) for k,v in sign_tracker.items()]\n",
    "    \n",
    "    code = huffman_code(sign_list)\n",
    "    code_list = [(k,v) for k,v in code.items()]\n",
    "    encoded_text = encode(code,data[0:250])\n",
    "    save(encoded_text,filename_save,filename_code,code)\n",
    "    loaded_code,loaded_text = load(filename_code,filename_save)\n",
    "    decoded_text = decode(loaded_code,loaded_text)\n",
    "    if data[0:250] == decoded_text:\n",
    "        msg = \"poprawnie\"\n",
    "    else:\n",
    "        msg = \"niepoprawnie\"\n",
    "    \n",
    "    p = mean_huffman(code_list,sign_list)\n",
    "    entropia = zadanie2(alfabet,srednia_dlugość = p)\n",
    "    return(code,msg,decoded_text,entropia)\n",
    "\n",
    "code,msg,decoded_text,entropia = zadanie3('norm_wiki_sample.txt')\n",
    "print(code)\n",
    "print(msg)\n",
    "print(decoded_test)\n",
    "print(entropia)\n"
   ]
  }
 ],
 "metadata": {
  "kernelspec": {
   "display_name": "Python 3",
   "language": "python",
   "name": "python3"
  },
  "language_info": {
   "codemirror_mode": {
    "name": "ipython",
    "version": 3
   },
   "file_extension": ".py",
   "mimetype": "text/x-python",
   "name": "python",
   "nbconvert_exporter": "python",
   "pygments_lexer": "ipython3",
   "version": "3.8.5"
  }
 },
 "nbformat": 4,
 "nbformat_minor": 4
}
